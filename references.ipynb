{
  "cells": [
    {
      "cell_type": "markdown",
      "metadata": {},
      "source": [
        "# References {.unnumbered}\n",
        "\n",
        "```{bibliography}"
      ],
      "id": "f7788e8e"
    }
  ],
  "metadata": {
    "kernelspec": {
      "display_name": "Python 3",
      "language": "python",
      "name": "python3"
    }
  },
  "nbformat": 4,
  "nbformat_minor": 5
}